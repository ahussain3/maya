{
 "cells": [
  {
   "cell_type": "code",
   "execution_count": 1,
   "metadata": {
    "collapsed": false,
    "deletable": true,
    "editable": true
   },
   "outputs": [],
   "source": [
    "import numpy as np\n",
    "import pandas as pd\n",
    "import matplotlib.pyplot as plt\n",
    "import re"
   ]
  },
  {
   "cell_type": "markdown",
   "metadata": {
    "deletable": true,
    "editable": true
   },
   "source": [
    "## To do\n",
    "\n",
    "- group postcodes by constituency / county?\n",
    "- average house prices in group\n",
    "- filter based on property type"
   ]
  },
  {
   "cell_type": "markdown",
   "metadata": {
    "deletable": true,
    "editable": true
   },
   "source": [
    "### Column Headers\n",
    "- Transaction unique identifier\n",
    "- Date of Transfer\n",
    "- Postcode\n",
    "- Property Type (D=Detached, S = Semi-Detached, T = Terraced, F = Flats/Maisonettes, O = Other)\n",
    "- Old/New (Y=Newly Built, N=an established residential building)\n",
    "- Duration (F=Freehold, L=Leasehold)\n",
    "- PAON (Primary Addressable Object Name)\n",
    "- SAON (Secondary Addressable Object Name)\n",
    "- Street\n",
    "- Locality\n",
    "- Town/City\n",
    "- District\n",
    "- County\n",
    "- PPD Category Type (A = Standard Price Paid, B = Additional Price Paid)\n",
    "- Record Status (A = Addition, C = Change, D = Delete)"
   ]
  },
  {
   "cell_type": "markdown",
   "metadata": {
    "deletable": true,
    "editable": true
   },
   "source": [
    "### The table has 375,000 rows"
   ]
  },
  {
   "cell_type": "code",
   "execution_count": 2,
   "metadata": {
    "collapsed": false,
    "deletable": true,
    "editable": true
   },
   "outputs": [],
   "source": [
    "headers = [\"TID\", \"Price\", \"Date\", \"Postcode\", \"Prop. Type\", \"New?\", \"Duration\", \"PAON\", \"SAON\", \"Street\", \"Locality\", \"Town_City\", \"District\", \"County\", \"PPD\", \"Record_Status\"]\n",
    "df = pd.read_csv('data/pp-2017.csv', parse_dates=True, names=headers)\n",
    "df = df.dropna(subset=['Postcode'])"
   ]
  },
  {
   "cell_type": "code",
   "execution_count": 3,
   "metadata": {
    "collapsed": false,
    "deletable": true,
    "editable": true
   },
   "outputs": [
    {
     "data": {
      "text/plain": [
       "TID              372511\n",
       "Price            372511\n",
       "Date             372511\n",
       "Postcode         372511\n",
       "Prop. Type       372511\n",
       "New?             372511\n",
       "Duration         372511\n",
       "PAON             372511\n",
       "SAON              47770\n",
       "Street           365815\n",
       "Locality         136541\n",
       "Town_City        372511\n",
       "District         372511\n",
       "County           372511\n",
       "PPD              372511\n",
       "Record_Status    372511\n",
       "dtype: int64"
      ]
     },
     "execution_count": 3,
     "metadata": {},
     "output_type": "execute_result"
    }
   ],
   "source": [
    "df.count()"
   ]
  },
  {
   "cell_type": "code",
   "execution_count": 4,
   "metadata": {
    "collapsed": false,
    "deletable": true,
    "editable": true
   },
   "outputs": [
    {
     "data": {
      "text/html": [
       "<div>\n",
       "<style>\n",
       "    .dataframe thead tr:only-child th {\n",
       "        text-align: right;\n",
       "    }\n",
       "\n",
       "    .dataframe thead th {\n",
       "        text-align: left;\n",
       "    }\n",
       "\n",
       "    .dataframe tbody tr th {\n",
       "        vertical-align: top;\n",
       "    }\n",
       "</style>\n",
       "<table border=\"1\" class=\"dataframe\">\n",
       "  <thead>\n",
       "    <tr style=\"text-align: right;\">\n",
       "      <th></th>\n",
       "      <th>TID</th>\n",
       "      <th>Price</th>\n",
       "      <th>Date</th>\n",
       "      <th>Postcode</th>\n",
       "      <th>Prop. Type</th>\n",
       "      <th>New?</th>\n",
       "      <th>Duration</th>\n",
       "      <th>PAON</th>\n",
       "      <th>SAON</th>\n",
       "      <th>Street</th>\n",
       "      <th>Locality</th>\n",
       "      <th>Town_City</th>\n",
       "      <th>District</th>\n",
       "      <th>County</th>\n",
       "      <th>PPD</th>\n",
       "      <th>Record_Status</th>\n",
       "    </tr>\n",
       "  </thead>\n",
       "  <tbody>\n",
       "    <tr>\n",
       "      <th>count</th>\n",
       "      <td>372511</td>\n",
       "      <td>3.725110e+05</td>\n",
       "      <td>372511</td>\n",
       "      <td>372511</td>\n",
       "      <td>372511</td>\n",
       "      <td>372511</td>\n",
       "      <td>372511</td>\n",
       "      <td>372511</td>\n",
       "      <td>47770</td>\n",
       "      <td>365815</td>\n",
       "      <td>136541</td>\n",
       "      <td>372511</td>\n",
       "      <td>372511</td>\n",
       "      <td>372511</td>\n",
       "      <td>372511</td>\n",
       "      <td>372511</td>\n",
       "    </tr>\n",
       "    <tr>\n",
       "      <th>unique</th>\n",
       "      <td>372511</td>\n",
       "      <td>NaN</td>\n",
       "      <td>177</td>\n",
       "      <td>275997</td>\n",
       "      <td>5</td>\n",
       "      <td>2</td>\n",
       "      <td>2</td>\n",
       "      <td>40133</td>\n",
       "      <td>4341</td>\n",
       "      <td>114111</td>\n",
       "      <td>13103</td>\n",
       "      <td>1145</td>\n",
       "      <td>348</td>\n",
       "      <td>112</td>\n",
       "      <td>2</td>\n",
       "      <td>1</td>\n",
       "    </tr>\n",
       "    <tr>\n",
       "      <th>top</th>\n",
       "      <td>{47844C80-27E4-8986-E050-A8C063056488}</td>\n",
       "      <td>NaN</td>\n",
       "      <td>2017-03-31 00:00</td>\n",
       "      <td>ST5 1LD</td>\n",
       "      <td>T</td>\n",
       "      <td>N</td>\n",
       "      <td>F</td>\n",
       "      <td>2</td>\n",
       "      <td>FLAT 1</td>\n",
       "      <td>HIGH STREET</td>\n",
       "      <td>MIDDLETON</td>\n",
       "      <td>LONDON</td>\n",
       "      <td>BIRMINGHAM</td>\n",
       "      <td>GREATER LONDON</td>\n",
       "      <td>A</td>\n",
       "      <td>A</td>\n",
       "    </tr>\n",
       "    <tr>\n",
       "      <th>freq</th>\n",
       "      <td>1</td>\n",
       "      <td>NaN</td>\n",
       "      <td>14228</td>\n",
       "      <td>159</td>\n",
       "      <td>105946</td>\n",
       "      <td>349834</td>\n",
       "      <td>283494</td>\n",
       "      <td>9092</td>\n",
       "      <td>2214</td>\n",
       "      <td>2906</td>\n",
       "      <td>374</td>\n",
       "      <td>24803</td>\n",
       "      <td>5487</td>\n",
       "      <td>41968</td>\n",
       "      <td>321499</td>\n",
       "      <td>372511</td>\n",
       "    </tr>\n",
       "    <tr>\n",
       "      <th>mean</th>\n",
       "      <td>NaN</td>\n",
       "      <td>3.270261e+05</td>\n",
       "      <td>NaN</td>\n",
       "      <td>NaN</td>\n",
       "      <td>NaN</td>\n",
       "      <td>NaN</td>\n",
       "      <td>NaN</td>\n",
       "      <td>NaN</td>\n",
       "      <td>NaN</td>\n",
       "      <td>NaN</td>\n",
       "      <td>NaN</td>\n",
       "      <td>NaN</td>\n",
       "      <td>NaN</td>\n",
       "      <td>NaN</td>\n",
       "      <td>NaN</td>\n",
       "      <td>NaN</td>\n",
       "    </tr>\n",
       "    <tr>\n",
       "      <th>std</th>\n",
       "      <td>NaN</td>\n",
       "      <td>9.999748e+05</td>\n",
       "      <td>NaN</td>\n",
       "      <td>NaN</td>\n",
       "      <td>NaN</td>\n",
       "      <td>NaN</td>\n",
       "      <td>NaN</td>\n",
       "      <td>NaN</td>\n",
       "      <td>NaN</td>\n",
       "      <td>NaN</td>\n",
       "      <td>NaN</td>\n",
       "      <td>NaN</td>\n",
       "      <td>NaN</td>\n",
       "      <td>NaN</td>\n",
       "      <td>NaN</td>\n",
       "      <td>NaN</td>\n",
       "    </tr>\n",
       "    <tr>\n",
       "      <th>min</th>\n",
       "      <td>NaN</td>\n",
       "      <td>1.000000e+00</td>\n",
       "      <td>NaN</td>\n",
       "      <td>NaN</td>\n",
       "      <td>NaN</td>\n",
       "      <td>NaN</td>\n",
       "      <td>NaN</td>\n",
       "      <td>NaN</td>\n",
       "      <td>NaN</td>\n",
       "      <td>NaN</td>\n",
       "      <td>NaN</td>\n",
       "      <td>NaN</td>\n",
       "      <td>NaN</td>\n",
       "      <td>NaN</td>\n",
       "      <td>NaN</td>\n",
       "      <td>NaN</td>\n",
       "    </tr>\n",
       "    <tr>\n",
       "      <th>25%</th>\n",
       "      <td>NaN</td>\n",
       "      <td>1.367500e+05</td>\n",
       "      <td>NaN</td>\n",
       "      <td>NaN</td>\n",
       "      <td>NaN</td>\n",
       "      <td>NaN</td>\n",
       "      <td>NaN</td>\n",
       "      <td>NaN</td>\n",
       "      <td>NaN</td>\n",
       "      <td>NaN</td>\n",
       "      <td>NaN</td>\n",
       "      <td>NaN</td>\n",
       "      <td>NaN</td>\n",
       "      <td>NaN</td>\n",
       "      <td>NaN</td>\n",
       "      <td>NaN</td>\n",
       "    </tr>\n",
       "    <tr>\n",
       "      <th>50%</th>\n",
       "      <td>NaN</td>\n",
       "      <td>2.170000e+05</td>\n",
       "      <td>NaN</td>\n",
       "      <td>NaN</td>\n",
       "      <td>NaN</td>\n",
       "      <td>NaN</td>\n",
       "      <td>NaN</td>\n",
       "      <td>NaN</td>\n",
       "      <td>NaN</td>\n",
       "      <td>NaN</td>\n",
       "      <td>NaN</td>\n",
       "      <td>NaN</td>\n",
       "      <td>NaN</td>\n",
       "      <td>NaN</td>\n",
       "      <td>NaN</td>\n",
       "      <td>NaN</td>\n",
       "    </tr>\n",
       "    <tr>\n",
       "      <th>75%</th>\n",
       "      <td>NaN</td>\n",
       "      <td>3.430000e+05</td>\n",
       "      <td>NaN</td>\n",
       "      <td>NaN</td>\n",
       "      <td>NaN</td>\n",
       "      <td>NaN</td>\n",
       "      <td>NaN</td>\n",
       "      <td>NaN</td>\n",
       "      <td>NaN</td>\n",
       "      <td>NaN</td>\n",
       "      <td>NaN</td>\n",
       "      <td>NaN</td>\n",
       "      <td>NaN</td>\n",
       "      <td>NaN</td>\n",
       "      <td>NaN</td>\n",
       "      <td>NaN</td>\n",
       "    </tr>\n",
       "    <tr>\n",
       "      <th>max</th>\n",
       "      <td>NaN</td>\n",
       "      <td>9.876539e+07</td>\n",
       "      <td>NaN</td>\n",
       "      <td>NaN</td>\n",
       "      <td>NaN</td>\n",
       "      <td>NaN</td>\n",
       "      <td>NaN</td>\n",
       "      <td>NaN</td>\n",
       "      <td>NaN</td>\n",
       "      <td>NaN</td>\n",
       "      <td>NaN</td>\n",
       "      <td>NaN</td>\n",
       "      <td>NaN</td>\n",
       "      <td>NaN</td>\n",
       "      <td>NaN</td>\n",
       "      <td>NaN</td>\n",
       "    </tr>\n",
       "  </tbody>\n",
       "</table>\n",
       "</div>"
      ],
      "text/plain": [
       "                                           TID         Price  \\\n",
       "count                                   372511  3.725110e+05   \n",
       "unique                                  372511           NaN   \n",
       "top     {47844C80-27E4-8986-E050-A8C063056488}           NaN   \n",
       "freq                                         1           NaN   \n",
       "mean                                       NaN  3.270261e+05   \n",
       "std                                        NaN  9.999748e+05   \n",
       "min                                        NaN  1.000000e+00   \n",
       "25%                                        NaN  1.367500e+05   \n",
       "50%                                        NaN  2.170000e+05   \n",
       "75%                                        NaN  3.430000e+05   \n",
       "max                                        NaN  9.876539e+07   \n",
       "\n",
       "                    Date Postcode Prop. Type    New? Duration    PAON    SAON  \\\n",
       "count             372511   372511     372511  372511   372511  372511   47770   \n",
       "unique               177   275997          5       2        2   40133    4341   \n",
       "top     2017-03-31 00:00  ST5 1LD          T       N        F       2  FLAT 1   \n",
       "freq               14228      159     105946  349834   283494    9092    2214   \n",
       "mean                 NaN      NaN        NaN     NaN      NaN     NaN     NaN   \n",
       "std                  NaN      NaN        NaN     NaN      NaN     NaN     NaN   \n",
       "min                  NaN      NaN        NaN     NaN      NaN     NaN     NaN   \n",
       "25%                  NaN      NaN        NaN     NaN      NaN     NaN     NaN   \n",
       "50%                  NaN      NaN        NaN     NaN      NaN     NaN     NaN   \n",
       "75%                  NaN      NaN        NaN     NaN      NaN     NaN     NaN   \n",
       "max                  NaN      NaN        NaN     NaN      NaN     NaN     NaN   \n",
       "\n",
       "             Street   Locality Town_City    District          County     PPD  \\\n",
       "count        365815     136541    372511      372511          372511  372511   \n",
       "unique       114111      13103      1145         348             112       2   \n",
       "top     HIGH STREET  MIDDLETON    LONDON  BIRMINGHAM  GREATER LONDON       A   \n",
       "freq           2906        374     24803        5487           41968  321499   \n",
       "mean            NaN        NaN       NaN         NaN             NaN     NaN   \n",
       "std             NaN        NaN       NaN         NaN             NaN     NaN   \n",
       "min             NaN        NaN       NaN         NaN             NaN     NaN   \n",
       "25%             NaN        NaN       NaN         NaN             NaN     NaN   \n",
       "50%             NaN        NaN       NaN         NaN             NaN     NaN   \n",
       "75%             NaN        NaN       NaN         NaN             NaN     NaN   \n",
       "max             NaN        NaN       NaN         NaN             NaN     NaN   \n",
       "\n",
       "       Record_Status  \n",
       "count         372511  \n",
       "unique             1  \n",
       "top                A  \n",
       "freq          372511  \n",
       "mean             NaN  \n",
       "std              NaN  \n",
       "min              NaN  \n",
       "25%              NaN  \n",
       "50%              NaN  \n",
       "75%              NaN  \n",
       "max              NaN  "
      ]
     },
     "execution_count": 4,
     "metadata": {},
     "output_type": "execute_result"
    }
   ],
   "source": [
    "df.describe(include='all')"
   ]
  },
  {
   "cell_type": "code",
   "execution_count": 5,
   "metadata": {
    "collapsed": false,
    "deletable": true,
    "editable": true
   },
   "outputs": [
    {
     "data": {
      "text/html": [
       "<div>\n",
       "<style>\n",
       "    .dataframe thead tr:only-child th {\n",
       "        text-align: right;\n",
       "    }\n",
       "\n",
       "    .dataframe thead th {\n",
       "        text-align: left;\n",
       "    }\n",
       "\n",
       "    .dataframe tbody tr th {\n",
       "        vertical-align: top;\n",
       "    }\n",
       "</style>\n",
       "<table border=\"1\" class=\"dataframe\">\n",
       "  <thead>\n",
       "    <tr style=\"text-align: right;\">\n",
       "      <th></th>\n",
       "      <th>TID</th>\n",
       "      <th>Price</th>\n",
       "      <th>Date</th>\n",
       "      <th>Postcode</th>\n",
       "      <th>Prop. Type</th>\n",
       "      <th>New?</th>\n",
       "      <th>Duration</th>\n",
       "      <th>PAON</th>\n",
       "      <th>SAON</th>\n",
       "      <th>Street</th>\n",
       "      <th>Locality</th>\n",
       "      <th>Town_City</th>\n",
       "      <th>District</th>\n",
       "      <th>County</th>\n",
       "      <th>PPD</th>\n",
       "      <th>Record_Status</th>\n",
       "    </tr>\n",
       "  </thead>\n",
       "  <tbody>\n",
       "    <tr>\n",
       "      <th>0</th>\n",
       "      <td>{4C4EDFFF-6C65-1854-E050-A8C063054F34}</td>\n",
       "      <td>325000</td>\n",
       "      <td>2017-02-17 00:00</td>\n",
       "      <td>SO50 9QN</td>\n",
       "      <td>T</td>\n",
       "      <td>Y</td>\n",
       "      <td>F</td>\n",
       "      <td>21</td>\n",
       "      <td>NaN</td>\n",
       "      <td>HAWKINS WAY</td>\n",
       "      <td>NaN</td>\n",
       "      <td>EASTLEIGH</td>\n",
       "      <td>EASTLEIGH</td>\n",
       "      <td>HAMPSHIRE</td>\n",
       "      <td>A</td>\n",
       "      <td>A</td>\n",
       "    </tr>\n",
       "    <tr>\n",
       "      <th>1</th>\n",
       "      <td>{4C4EDFFF-6C66-1854-E050-A8C063054F34}</td>\n",
       "      <td>424950</td>\n",
       "      <td>2017-01-30 00:00</td>\n",
       "      <td>GU14 9FS</td>\n",
       "      <td>D</td>\n",
       "      <td>Y</td>\n",
       "      <td>F</td>\n",
       "      <td>14</td>\n",
       "      <td>NaN</td>\n",
       "      <td>DARTFORD RISE</td>\n",
       "      <td>NaN</td>\n",
       "      <td>FARNBOROUGH</td>\n",
       "      <td>RUSHMOOR</td>\n",
       "      <td>HAMPSHIRE</td>\n",
       "      <td>A</td>\n",
       "      <td>A</td>\n",
       "    </tr>\n",
       "    <tr>\n",
       "      <th>2</th>\n",
       "      <td>{4C4EDFFF-6C67-1854-E050-A8C063054F34}</td>\n",
       "      <td>499950</td>\n",
       "      <td>2017-03-01 00:00</td>\n",
       "      <td>SO31 8LN</td>\n",
       "      <td>D</td>\n",
       "      <td>Y</td>\n",
       "      <td>F</td>\n",
       "      <td>50</td>\n",
       "      <td>NaN</td>\n",
       "      <td>CLEVERLEY RISE</td>\n",
       "      <td>BURSLEDON</td>\n",
       "      <td>SOUTHAMPTON</td>\n",
       "      <td>EASTLEIGH</td>\n",
       "      <td>HAMPSHIRE</td>\n",
       "      <td>A</td>\n",
       "      <td>A</td>\n",
       "    </tr>\n",
       "    <tr>\n",
       "      <th>3</th>\n",
       "      <td>{4C4EDFFF-6C68-1854-E050-A8C063054F34}</td>\n",
       "      <td>410000</td>\n",
       "      <td>2017-03-06 00:00</td>\n",
       "      <td>GU14 8AG</td>\n",
       "      <td>T</td>\n",
       "      <td>N</td>\n",
       "      <td>F</td>\n",
       "      <td>12A</td>\n",
       "      <td>NaN</td>\n",
       "      <td>FARNBOROUGH STREET</td>\n",
       "      <td>NaN</td>\n",
       "      <td>FARNBOROUGH</td>\n",
       "      <td>RUSHMOOR</td>\n",
       "      <td>HAMPSHIRE</td>\n",
       "      <td>A</td>\n",
       "      <td>A</td>\n",
       "    </tr>\n",
       "    <tr>\n",
       "      <th>4</th>\n",
       "      <td>{4C4EDFFF-6C69-1854-E050-A8C063054F34}</td>\n",
       "      <td>184500</td>\n",
       "      <td>2017-02-17 00:00</td>\n",
       "      <td>SO19 2DP</td>\n",
       "      <td>S</td>\n",
       "      <td>N</td>\n",
       "      <td>L</td>\n",
       "      <td>21</td>\n",
       "      <td>NaN</td>\n",
       "      <td>MANOR ROAD SOUTH</td>\n",
       "      <td>NaN</td>\n",
       "      <td>SOUTHAMPTON</td>\n",
       "      <td>SOUTHAMPTON</td>\n",
       "      <td>SOUTHAMPTON</td>\n",
       "      <td>A</td>\n",
       "      <td>A</td>\n",
       "    </tr>\n",
       "  </tbody>\n",
       "</table>\n",
       "</div>"
      ],
      "text/plain": [
       "                                      TID   Price              Date  Postcode  \\\n",
       "0  {4C4EDFFF-6C65-1854-E050-A8C063054F34}  325000  2017-02-17 00:00  SO50 9QN   \n",
       "1  {4C4EDFFF-6C66-1854-E050-A8C063054F34}  424950  2017-01-30 00:00  GU14 9FS   \n",
       "2  {4C4EDFFF-6C67-1854-E050-A8C063054F34}  499950  2017-03-01 00:00  SO31 8LN   \n",
       "3  {4C4EDFFF-6C68-1854-E050-A8C063054F34}  410000  2017-03-06 00:00  GU14 8AG   \n",
       "4  {4C4EDFFF-6C69-1854-E050-A8C063054F34}  184500  2017-02-17 00:00  SO19 2DP   \n",
       "\n",
       "  Prop. Type New? Duration PAON SAON              Street   Locality  \\\n",
       "0          T    Y        F   21  NaN         HAWKINS WAY        NaN   \n",
       "1          D    Y        F   14  NaN       DARTFORD RISE        NaN   \n",
       "2          D    Y        F   50  NaN      CLEVERLEY RISE  BURSLEDON   \n",
       "3          T    N        F  12A  NaN  FARNBOROUGH STREET        NaN   \n",
       "4          S    N        L   21  NaN    MANOR ROAD SOUTH        NaN   \n",
       "\n",
       "     Town_City     District       County PPD Record_Status  \n",
       "0    EASTLEIGH    EASTLEIGH    HAMPSHIRE   A             A  \n",
       "1  FARNBOROUGH     RUSHMOOR    HAMPSHIRE   A             A  \n",
       "2  SOUTHAMPTON    EASTLEIGH    HAMPSHIRE   A             A  \n",
       "3  FARNBOROUGH     RUSHMOOR    HAMPSHIRE   A             A  \n",
       "4  SOUTHAMPTON  SOUTHAMPTON  SOUTHAMPTON   A             A  "
      ]
     },
     "execution_count": 5,
     "metadata": {},
     "output_type": "execute_result"
    }
   ],
   "source": [
    "df.head()"
   ]
  },
  {
   "cell_type": "code",
   "execution_count": 6,
   "metadata": {
    "collapsed": false,
    "deletable": true,
    "editable": true
   },
   "outputs": [],
   "source": [
    "avg_price_by_county = df['Price'].groupby(df['County']).aggregate(np.mean)"
   ]
  },
  {
   "cell_type": "code",
   "execution_count": 7,
   "metadata": {
    "collapsed": false,
    "deletable": true,
    "editable": true
   },
   "outputs": [
    {
     "name": "stdout",
     "output_type": "stream",
     "text": [
      "112\n",
      "County\n",
      "BATH AND NORTH EAST SOMERSET    414963.466052\n",
      "BEDFORD                         355307.594755\n",
      "BLACKBURN WITH DARWEN           170143.521390\n",
      "BLACKPOOL                       139402.267385\n",
      "BLAENAU GWENT                    90300.977591\n",
      "BOURNEMOUTH                     285609.429895\n",
      "BRACKNELL FOREST                468772.202532\n",
      "BRIDGEND                        161185.490031\n",
      "BRIGHTON AND HOVE               428552.935924\n",
      "BUCKINGHAMSHIRE                 517746.714165\n",
      "Name: Price, dtype: float64\n"
     ]
    }
   ],
   "source": [
    "print len(avg_price_by_county)\n",
    "print avg_price_by_county.head(10)"
   ]
  },
  {
   "cell_type": "code",
   "execution_count": 8,
   "metadata": {
    "collapsed": false,
    "deletable": true,
    "editable": true
   },
   "outputs": [
    {
     "name": "stdout",
     "output_type": "stream",
     "text": [
      "275997\n",
      "Postcode\n",
      "AL1 1BH    2.608333e+05\n",
      "AL1 1DH    5.585000e+05\n",
      "AL1 1DU    7.800000e+05\n",
      "AL1 1EA    1.025000e+06\n",
      "AL1 1EE    1.035000e+06\n",
      "AL1 1EX    3.500000e+05\n",
      "AL1 1HF    9.000000e+05\n",
      "AL1 1HY    2.407500e+06\n",
      "AL1 1JE    3.925000e+05\n",
      "AL1 1JR    2.775000e+05\n",
      "Name: Price, dtype: float64\n"
     ]
    }
   ],
   "source": [
    "avg_price_by_postcode_long = df['Price'].groupby(df['Postcode']).aggregate(np.mean)\n",
    "print len(avg_price_by_postcode_long)\n",
    "print avg_price_by_postcode_long.head(10)"
   ]
  },
  {
   "cell_type": "code",
   "execution_count": 9,
   "metadata": {
    "collapsed": false,
    "deletable": true,
    "editable": true
   },
   "outputs": [
    {
     "name": "stdout",
     "output_type": "stream",
     "text": [
      "2292\n",
      "Postcode\n",
      "AL1     587035.796364\n",
      "AL10    356429.896296\n",
      "AL2     491614.760000\n",
      "AL3     564789.604278\n",
      "AL4     571469.696970\n",
      "AL5     850726.401961\n",
      "AL6     667624.852941\n",
      "AL7     360458.391304\n",
      "AL8     426044.602273\n",
      "AL9     653268.571429\n",
      "Name: Price, dtype: float64\n"
     ]
    }
   ],
   "source": [
    "avg_price_by_postcode_district = df['Price'].groupby(df['Postcode'].map(lambda pcode: pcode.split(\" \")[0])).aggregate(np.mean)\n",
    "print len(avg_price_by_postcode_district)\n",
    "print avg_price_by_postcode_district.head(10)"
   ]
  },
  {
   "cell_type": "code",
   "execution_count": 10,
   "metadata": {
    "collapsed": false,
    "deletable": true,
    "editable": true
   },
   "outputs": [
    {
     "data": {
      "text/plain": [
       "'E'"
      ]
     },
     "execution_count": 10,
     "metadata": {},
     "output_type": "execute_result"
    }
   ],
   "source": [
    "p = \"E5 1LY\"\n",
    "m = re.search('[A-Z]*', p)\n",
    "m.group(0)"
   ]
  },
  {
   "cell_type": "code",
   "execution_count": 12,
   "metadata": {
    "collapsed": false,
    "deletable": true,
    "editable": true
   },
   "outputs": [
    {
     "name": "stdout",
     "output_type": "stream",
     "text": [
      "105\n",
      "Postcode\n",
      "AL    556230.425853\n",
      "B     264795.327457\n",
      "BA    326434.865691\n",
      "BB    189751.837478\n",
      "BD    159388.075573\n",
      "BH    350369.946811\n",
      "BL    173479.866337\n",
      "BN    355016.076368\n",
      "BR    513050.087193\n",
      "BS    326309.131503\n",
      "Name: Price, dtype: float64\n"
     ]
    }
   ],
   "source": [
    "avg_price_by_postcode_area = df['Price'].groupby(df['Postcode'].map(lambda pcode: re.search('[A-Z]*', pcode).group(0))).aggregate(np.mean)\n",
    "print len(avg_price_by_postcode_area)\n",
    "print avg_price_by_postcode_area.head(10)"
   ]
  },
  {
   "cell_type": "code",
   "execution_count": 27,
   "metadata": {
    "collapsed": true,
    "deletable": true,
    "editable": true
   },
   "outputs": [],
   "source": [
    "avg_price_by_postcode_area.to_frame().reset_index().to_json('price_by_area.json', orient='values')"
   ]
  },
  {
   "cell_type": "code",
   "execution_count": 13,
   "metadata": {
    "collapsed": false,
    "deletable": true,
    "editable": true
   },
   "outputs": [],
   "source": [
    "avg_price_by_postcode_district.to_frame().reset_index().to_json('price_by_district.json', orient='values')"
   ]
  },
  {
   "cell_type": "markdown",
   "metadata": {
    "collapsed": false,
    "deletable": true,
    "editable": true
   },
   "source": [
    "# Display a map of the UK?\n",
    "\n",
    "Or do I want to save that for the front end? Options for what to do next:\n",
    "1. Create a csv of this data, and then parse them in a D3 front end\n",
    "2. Create an API which pumps out this data, and then a D3 front end to parse\n",
    "3. Create the map visualizations right here in this notebook (for prototyping at least)\n",
    "\n",
    "I think option 3 makes the most sense. Let's see if I can leverage postcodes.io"
   ]
  },
  {
   "cell_type": "code",
   "execution_count": null,
   "metadata": {
    "collapsed": true,
    "deletable": true,
    "editable": true
   },
   "outputs": [],
   "source": []
  }
 ],
 "metadata": {
  "kernelspec": {
   "display_name": "Python 2",
   "language": "python",
   "name": "python2"
  },
  "language_info": {
   "codemirror_mode": {
    "name": "ipython",
    "version": 2
   },
   "file_extension": ".py",
   "mimetype": "text/x-python",
   "name": "python",
   "nbconvert_exporter": "python",
   "pygments_lexer": "ipython2",
   "version": "2.7.13"
  }
 },
 "nbformat": 4,
 "nbformat_minor": 2
}

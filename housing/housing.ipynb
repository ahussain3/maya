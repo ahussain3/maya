{
 "cells": [
  {
   "cell_type": "code",
   "execution_count": 2,
   "metadata": {
    "collapsed": false,
    "deletable": true,
    "editable": true
   },
   "outputs": [],
   "source": [
    "import numpy as np\n",
    "import pandas as pd"
   ]
  },
  {
   "cell_type": "markdown",
   "metadata": {
    "deletable": true,
    "editable": true
   },
   "source": [
    "## To do\n",
    "\n",
    "- group postcodes by constituency / county?\n",
    "- average house prices in group\n",
    "- filter based on property type"
   ]
  },
  {
   "cell_type": "markdown",
   "metadata": {
    "deletable": true,
    "editable": true
   },
   "source": [
    "### Column Headers\n",
    "- Transaction unique identifier\n",
    "- Date of Transfer\n",
    "- Postcode\n",
    "- Property Type (D=Detached, S = Semi-Detached, T = Terraced, F = Flats/Maisonettes, O = Other)\n",
    "- Old/New (Y=Newly Built, N=an established residential building)\n",
    "- Duration (F=Freehold, L=Leasehold)\n",
    "- PAON (Primary Addressable Object Name)\n",
    "- SAON (Secondary Addressable Object Name)\n",
    "- Street\n",
    "- Locality\n",
    "- Town/City\n",
    "- District\n",
    "- County\n",
    "- PPD Category Type (A = Standard Price Paid, B = Additional Price Paid)\n",
    "- Record Status (A = Addition, C = Change, D = Delete)"
   ]
  },
  {
   "cell_type": "code",
   "execution_count": 3,
   "metadata": {
    "collapsed": false,
    "deletable": true,
    "editable": true
   },
   "outputs": [],
   "source": [
    "headers = [\"TID\", \"Price\", \"Date\", \"Postcode\", \"Prop. Type\", \"New?\", \"Duration\", \"PAON\", \"SAON\", \"Street\", \"Locality\", \"Town_City\", \"District\", \"County\", \"PPD\", \"Record_Status\"]\n",
    "df = pd.read_csv('data/pp-2017.csv', names=headers)"
   ]
  },
  {
   "cell_type": "code",
   "execution_count": 4,
   "metadata": {
    "collapsed": false,
    "deletable": true,
    "editable": true
   },
   "outputs": [
    {
     "data": {
      "text/html": [
       "<div>\n",
       "<style>\n",
       "    .dataframe thead tr:only-child th {\n",
       "        text-align: right;\n",
       "    }\n",
       "\n",
       "    .dataframe thead th {\n",
       "        text-align: left;\n",
       "    }\n",
       "\n",
       "    .dataframe tbody tr th {\n",
       "        vertical-align: top;\n",
       "    }\n",
       "</style>\n",
       "<table border=\"1\" class=\"dataframe\">\n",
       "  <thead>\n",
       "    <tr style=\"text-align: right;\">\n",
       "      <th></th>\n",
       "      <th>TID</th>\n",
       "      <th>Price</th>\n",
       "      <th>Date</th>\n",
       "      <th>Postcode</th>\n",
       "      <th>Prop. Type</th>\n",
       "      <th>New?</th>\n",
       "      <th>Duration</th>\n",
       "      <th>PAON</th>\n",
       "      <th>SAON</th>\n",
       "      <th>Street</th>\n",
       "      <th>Locality</th>\n",
       "      <th>Town_City</th>\n",
       "      <th>District</th>\n",
       "      <th>County</th>\n",
       "      <th>PPD</th>\n",
       "      <th>Record_Status</th>\n",
       "    </tr>\n",
       "  </thead>\n",
       "  <tbody>\n",
       "    <tr>\n",
       "      <th>0</th>\n",
       "      <td>{4C4EDFFF-6C65-1854-E050-A8C063054F34}</td>\n",
       "      <td>325000</td>\n",
       "      <td>2017-02-17 00:00</td>\n",
       "      <td>SO50 9QN</td>\n",
       "      <td>T</td>\n",
       "      <td>Y</td>\n",
       "      <td>F</td>\n",
       "      <td>21</td>\n",
       "      <td>NaN</td>\n",
       "      <td>HAWKINS WAY</td>\n",
       "      <td>NaN</td>\n",
       "      <td>EASTLEIGH</td>\n",
       "      <td>EASTLEIGH</td>\n",
       "      <td>HAMPSHIRE</td>\n",
       "      <td>A</td>\n",
       "      <td>A</td>\n",
       "    </tr>\n",
       "    <tr>\n",
       "      <th>1</th>\n",
       "      <td>{4C4EDFFF-6C66-1854-E050-A8C063054F34}</td>\n",
       "      <td>424950</td>\n",
       "      <td>2017-01-30 00:00</td>\n",
       "      <td>GU14 9FS</td>\n",
       "      <td>D</td>\n",
       "      <td>Y</td>\n",
       "      <td>F</td>\n",
       "      <td>14</td>\n",
       "      <td>NaN</td>\n",
       "      <td>DARTFORD RISE</td>\n",
       "      <td>NaN</td>\n",
       "      <td>FARNBOROUGH</td>\n",
       "      <td>RUSHMOOR</td>\n",
       "      <td>HAMPSHIRE</td>\n",
       "      <td>A</td>\n",
       "      <td>A</td>\n",
       "    </tr>\n",
       "    <tr>\n",
       "      <th>2</th>\n",
       "      <td>{4C4EDFFF-6C67-1854-E050-A8C063054F34}</td>\n",
       "      <td>499950</td>\n",
       "      <td>2017-03-01 00:00</td>\n",
       "      <td>SO31 8LN</td>\n",
       "      <td>D</td>\n",
       "      <td>Y</td>\n",
       "      <td>F</td>\n",
       "      <td>50</td>\n",
       "      <td>NaN</td>\n",
       "      <td>CLEVERLEY RISE</td>\n",
       "      <td>BURSLEDON</td>\n",
       "      <td>SOUTHAMPTON</td>\n",
       "      <td>EASTLEIGH</td>\n",
       "      <td>HAMPSHIRE</td>\n",
       "      <td>A</td>\n",
       "      <td>A</td>\n",
       "    </tr>\n",
       "    <tr>\n",
       "      <th>3</th>\n",
       "      <td>{4C4EDFFF-6C68-1854-E050-A8C063054F34}</td>\n",
       "      <td>410000</td>\n",
       "      <td>2017-03-06 00:00</td>\n",
       "      <td>GU14 8AG</td>\n",
       "      <td>T</td>\n",
       "      <td>N</td>\n",
       "      <td>F</td>\n",
       "      <td>12A</td>\n",
       "      <td>NaN</td>\n",
       "      <td>FARNBOROUGH STREET</td>\n",
       "      <td>NaN</td>\n",
       "      <td>FARNBOROUGH</td>\n",
       "      <td>RUSHMOOR</td>\n",
       "      <td>HAMPSHIRE</td>\n",
       "      <td>A</td>\n",
       "      <td>A</td>\n",
       "    </tr>\n",
       "    <tr>\n",
       "      <th>4</th>\n",
       "      <td>{4C4EDFFF-6C69-1854-E050-A8C063054F34}</td>\n",
       "      <td>184500</td>\n",
       "      <td>2017-02-17 00:00</td>\n",
       "      <td>SO19 2DP</td>\n",
       "      <td>S</td>\n",
       "      <td>N</td>\n",
       "      <td>L</td>\n",
       "      <td>21</td>\n",
       "      <td>NaN</td>\n",
       "      <td>MANOR ROAD SOUTH</td>\n",
       "      <td>NaN</td>\n",
       "      <td>SOUTHAMPTON</td>\n",
       "      <td>SOUTHAMPTON</td>\n",
       "      <td>SOUTHAMPTON</td>\n",
       "      <td>A</td>\n",
       "      <td>A</td>\n",
       "    </tr>\n",
       "  </tbody>\n",
       "</table>\n",
       "</div>"
      ],
      "text/plain": [
       "                                      TID   Price              Date  Postcode  \\\n",
       "0  {4C4EDFFF-6C65-1854-E050-A8C063054F34}  325000  2017-02-17 00:00  SO50 9QN   \n",
       "1  {4C4EDFFF-6C66-1854-E050-A8C063054F34}  424950  2017-01-30 00:00  GU14 9FS   \n",
       "2  {4C4EDFFF-6C67-1854-E050-A8C063054F34}  499950  2017-03-01 00:00  SO31 8LN   \n",
       "3  {4C4EDFFF-6C68-1854-E050-A8C063054F34}  410000  2017-03-06 00:00  GU14 8AG   \n",
       "4  {4C4EDFFF-6C69-1854-E050-A8C063054F34}  184500  2017-02-17 00:00  SO19 2DP   \n",
       "\n",
       "  Prop. Type New? Duration PAON SAON              Street   Locality  \\\n",
       "0          T    Y        F   21  NaN         HAWKINS WAY        NaN   \n",
       "1          D    Y        F   14  NaN       DARTFORD RISE        NaN   \n",
       "2          D    Y        F   50  NaN      CLEVERLEY RISE  BURSLEDON   \n",
       "3          T    N        F  12A  NaN  FARNBOROUGH STREET        NaN   \n",
       "4          S    N        L   21  NaN    MANOR ROAD SOUTH        NaN   \n",
       "\n",
       "     Town_City     District       County PPD Record_Status  \n",
       "0    EASTLEIGH    EASTLEIGH    HAMPSHIRE   A             A  \n",
       "1  FARNBOROUGH     RUSHMOOR    HAMPSHIRE   A             A  \n",
       "2  SOUTHAMPTON    EASTLEIGH    HAMPSHIRE   A             A  \n",
       "3  FARNBOROUGH     RUSHMOOR    HAMPSHIRE   A             A  \n",
       "4  SOUTHAMPTON  SOUTHAMPTON  SOUTHAMPTON   A             A  "
      ]
     },
     "execution_count": 4,
     "metadata": {},
     "output_type": "execute_result"
    }
   ],
   "source": [
    "df.head()"
   ]
  },
  {
   "cell_type": "code",
   "execution_count": 5,
   "metadata": {
    "collapsed": false,
    "deletable": true,
    "editable": true
   },
   "outputs": [],
   "source": [
    "gb = df.groupby([\"County\"])"
   ]
  },
  {
   "cell_type": "code",
   "execution_count": 9,
   "metadata": {
    "collapsed": false,
    "deletable": true,
    "editable": true
   },
   "outputs": [],
   "source": [
    "avg_price_by_county = gb['Price'].mean()"
   ]
  },
  {
   "cell_type": "code",
   "execution_count": 10,
   "metadata": {
    "collapsed": false,
    "deletable": true,
    "editable": true
   },
   "outputs": [
    {
     "name": "stdout",
     "output_type": "stream",
     "text": [
      "112\n",
      "County\n",
      "BATH AND NORTH EAST SOMERSET    418991.595833\n",
      "BEDFORD                         349775.176226\n",
      "BLACKBURN WITH DARWEN           170143.521390\n",
      "BLACKPOOL                       139140.728250\n",
      "BLAENAU GWENT                    90423.469444\n",
      "BOURNEMOUTH                     284677.333538\n",
      "BRACKNELL FOREST                472901.555834\n",
      "BRIDGEND                        161886.458763\n",
      "BRIGHTON AND HOVE               426256.554512\n",
      "BUCKINGHAMSHIRE                 513248.788681\n",
      "Name: Price, dtype: float64\n"
     ]
    }
   ],
   "source": [
    "print len(avg_price_by_county)\n",
    "print avg_price_by_county.head(10)"
   ]
  },
  {
   "cell_type": "code",
   "execution_count": 11,
   "metadata": {
    "collapsed": false,
    "deletable": true,
    "editable": true
   },
   "outputs": [
    {
     "data": {
      "text/plain": [
       "Index([u'BATH AND NORTH EAST SOMERSET', u'BEDFORD', u'BLACKBURN WITH DARWEN',\n",
       "       u'BLACKPOOL', u'BLAENAU GWENT', u'BOURNEMOUTH', u'BRACKNELL FOREST',\n",
       "       u'BRIDGEND', u'BRIGHTON AND HOVE', u'BUCKINGHAMSHIRE',\n",
       "       ...\n",
       "       u'WEST MIDLANDS', u'WEST SUSSEX', u'WEST YORKSHIRE', u'WILTSHIRE',\n",
       "       u'WINDSOR AND MAIDENHEAD', u'WOKINGHAM', u'WORCESTERSHIRE', u'WREKIN',\n",
       "       u'WREXHAM', u'YORK'],\n",
       "      dtype='object', name=u'County', length=112)"
      ]
     },
     "execution_count": 11,
     "metadata": {},
     "output_type": "execute_result"
    }
   ],
   "source": [
    "avg_price_by_county.index"
   ]
  },
  {
   "cell_type": "code",
   "execution_count": null,
   "metadata": {
    "collapsed": true
   },
   "outputs": [],
   "source": []
  }
 ],
 "metadata": {
  "kernelspec": {
   "display_name": "Python 2",
   "language": "python",
   "name": "python2"
  },
  "language_info": {
   "codemirror_mode": {
    "name": "ipython",
    "version": 2
   },
   "file_extension": ".py",
   "mimetype": "text/x-python",
   "name": "python",
   "nbconvert_exporter": "python",
   "pygments_lexer": "ipython2",
   "version": "2.7.13"
  }
 },
 "nbformat": 4,
 "nbformat_minor": 2
}
